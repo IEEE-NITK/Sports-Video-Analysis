{
 "cells": [
  {
   "cell_type": "code",
   "execution_count": 1,
   "metadata": {},
   "outputs": [
    {
     "ename": "ModuleNotFoundError",
     "evalue": "No module named 'cv2'",
     "output_type": "error",
     "traceback": [
      "\u001b[0;31m---------------------------------------------------------------------------\u001b[0m",
      "\u001b[0;31mModuleNotFoundError\u001b[0m                       Traceback (most recent call last)",
      "\u001b[0;32m<ipython-input-1-d626b998e5da>\u001b[0m in \u001b[0;36m<module>\u001b[0;34m\u001b[0m\n\u001b[1;32m      1\u001b[0m \u001b[0;32mimport\u001b[0m \u001b[0mmath\u001b[0m\u001b[0;34m\u001b[0m\u001b[0;34m\u001b[0m\u001b[0m\n\u001b[0;32m----> 2\u001b[0;31m \u001b[0;32mimport\u001b[0m \u001b[0mcv2\u001b[0m \u001b[0;32mas\u001b[0m \u001b[0mcv\u001b[0m\u001b[0;34m\u001b[0m\u001b[0;34m\u001b[0m\u001b[0m\n\u001b[0m\u001b[1;32m      3\u001b[0m \u001b[0;32mimport\u001b[0m \u001b[0mnumpy\u001b[0m \u001b[0;32mas\u001b[0m \u001b[0mnp\u001b[0m\u001b[0;34m\u001b[0m\u001b[0;34m\u001b[0m\u001b[0m\n\u001b[1;32m      4\u001b[0m \u001b[0;34m\u001b[0m\u001b[0m\n\u001b[1;32m      5\u001b[0m \u001b[0;32mimport\u001b[0m \u001b[0msys\u001b[0m\u001b[0;34m\u001b[0m\u001b[0;34m\u001b[0m\u001b[0m\n",
      "\u001b[0;31mModuleNotFoundError\u001b[0m: No module named 'cv2'"
     ]
    }
   ],
   "source": [
    "import math\n",
    "import cv2 as cv\n",
    "import numpy as np\n",
    "\n",
    "import sys\n",
    "\n",
    "def test_clip(path):\n",
    "  vs = cv.VideoCapture(path)\n",
    "  backSub = cv.createBackgroundSubtractorMOG2()\n",
    "  n = 0\n",
    "  while(True):\n",
    "    ret, frame = vs.read()\n",
    "    if not ret or frame is None:\n",
    "      break\n",
    "\n",
    "    h = int(frame.shape[0] / 2)\n",
    "    w = int(frame.shape[1] / 2)\n",
    "\n",
    "    frame = cv.resize(frame, (w, h))\n",
    "    mask = backSub.apply(frame)\n",
    "\n",
    "    mask = cv.dilate(mask, None)\n",
    "    mask = cv.GaussianBlur(mask, (15, 15),0)\n",
    "    ret,mask = cv.threshold(mask,0,255,cv.THRESH_BINARY | cv.THRESH_OTSU)\n",
    "\n",
    "    handle_blobs(mask, frame)\n",
    "    pic = draw_blobs(w, h)\n",
    "    cv.imshow('frame', pic)\n",
    "    cv.imwrite(\"frames/frame-{:03d}.jpg\".format(n), pic)    \n",
    "    if cv.waitKey(10) == 27:\n",
    "      break\n",
    "    n += 1\n",
    "\n",
    "\n",
    "if __name__ == \"__main__\":\n",
    "  #test_clip(sys.argv[1])\n",
    "  test_clip(\"video.mp4\")"
   ]
  },
  {
   "cell_type": "code",
   "execution_count": null,
   "metadata": {},
   "outputs": [],
   "source": []
  }
 ],
 "metadata": {
  "kernelspec": {
   "display_name": "Python 3",
   "language": "python",
   "name": "python3"
  },
  "language_info": {
   "codemirror_mode": {
    "name": "ipython",
    "version": 3
   },
   "file_extension": ".py",
   "mimetype": "text/x-python",
   "name": "python",
   "nbconvert_exporter": "python",
   "pygments_lexer": "ipython3",
   "version": "3.6.9"
  }
 },
 "nbformat": 4,
 "nbformat_minor": 4
}
