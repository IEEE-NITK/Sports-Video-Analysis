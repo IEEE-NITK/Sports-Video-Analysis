{
 "cells": [
  {
   "cell_type": "code",
   "execution_count": 1,
   "metadata": {
    "id": "VaWgnMKNRGPa"
   },
   "outputs": [],
   "source": [
    "import numpy as np \n",
    "import cv2\n",
    "import matplotlib.pyplot as plt\n",
    "import matplotlib.image as mpimg\n",
    "from os.path import dirname, join\n",
    "protoFile = join(\"pose_deploy_linevec_faster_4_stages.prototxt\")\n",
    "weightsFile = join(\"pose_iter_160000.caffemodel\")\n",
    "net = cv2.dnn.readNetFromCaffe(protoFile, weightsFile)\n"
   ]
  },
  {
   "cell_type": "code",
   "execution_count": 2,
   "metadata": {},
   "outputs": [],
   "source": [
    "BODY_PARTS = { \"RShoulder\": 0, \"RElbow\": 1, \"RWrist\": 2, \"LShoulder\": 3, \"LElbow\": 4, \"LWrist\": 5 }\n",
    "\n",
    "POSE_PAIRS = [ [\"RShoulder\", \"RElbow\"], [\"RElbow\", \"RWrist\"], [\"LShoulder\", \"LElbow\"], [\"LElbow\", \"LWrist\"] ]"
   ]
  },
  {
   "cell_type": "code",
   "execution_count": 3,
   "metadata": {},
   "outputs": [],
   "source": [
    "def posedetector(frame):\n",
    "    inWidth = 368\n",
    "    inHeight = 368\n",
    "    inpBlob = cv2.dnn.blobFromImage(frame, 1.0 / 255, (inWidth, inHeight), (0, 0, 0), swapRB=False, crop=False)\n",
    "    net.setInput(inpBlob)\n",
    "    output = net.forward()\n",
    "    \n",
    "    H = output.shape[2]\n",
    "    W = output.shape[3]\n",
    "    points = []\n",
    "    frameWidth = frame.shape[1]\n",
    "    frameHeight = frame.shape[0]\n",
    "    for i in range(output.shape[1]):\n",
    "        probMap = output[0, i, :, :]\n",
    "        minVal, prob, minLoc, point = cv2.minMaxLoc(probMap)\n",
    "        x = (frameWidth * point[0]) / W\n",
    "        y = (frameHeight * point[1]) / H\n",
    "        if prob > 0.5 :\n",
    "            cv2.circle(frame, (int(x), int(y)), 5, (0, 0, 255), thickness=-1, lineType=cv2.FILLED)\n",
    "            points.append((int(x), int(y)))\n",
    "        else :\n",
    "            points.append(None)\n",
    "    for pair in POSE_PAIRS:\n",
    "        partA = pair[0]\n",
    "        partB = pair[1]\n",
    "        idFrom = BODY_PARTS[partA]\n",
    "        idTo = BODY_PARTS[partB]\n",
    "        if points[idFrom] and points[idTo]:\n",
    "            cv2.line(frame, points[idFrom], points[idTo], (0, 255, 0), 5)\n",
    "    cv2.imshow('frame',frame)"
   ]
  },
  {
   "cell_type": "code",
   "execution_count": 5,
   "metadata": {},
   "outputs": [],
   "source": [
    "cap = cv2.VideoCapture(0) \n",
    "cnt=0\n",
    "while(True):\n",
    "    ret,frame = cap.read()\n",
    "    cnt=cnt+1\n",
    "    if cnt>400: \n",
    "        posedetector(frame) \n",
    "    if cv2.waitKey(0) & 0xFF == ord('q'): \n",
    "        break\n",
    "\n",
    "cap.release() \n",
    "cv2.destroyAllWindows()"
   ]
  }
 ],
 "metadata": {
  "colab": {
   "collapsed_sections": [],
   "name": "OpenPose.ipynb",
   "provenance": []
  },
  "kernelspec": {
   "display_name": "Python 3",
   "language": "python",
   "name": "python3"
  },
  "language_info": {
   "codemirror_mode": {
    "name": "ipython",
    "version": 3
   },
   "file_extension": ".py",
   "mimetype": "text/x-python",
   "name": "python",
   "nbconvert_exporter": "python",
   "pygments_lexer": "ipython3",
   "version": "3.8.3"
  }
 },
 "nbformat": 4,
 "nbformat_minor": 1
}
