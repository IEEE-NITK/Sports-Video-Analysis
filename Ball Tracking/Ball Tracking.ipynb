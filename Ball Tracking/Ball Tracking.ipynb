{
 "cells": [
  {
   "cell_type": "code",
   "execution_count": null,
   "metadata": {},
   "outputs": [],
   "source": [
    "import cv2\n",
    "import numpy as np\n",
    "import imutils\n",
    "\n",
    "video='kapildev.mp4'\n",
    "\n",
    "# Create a VideoCapture object and read from input file\n",
    "# If the input is the camera, pass 0 instead of the video file name\n",
    "cap = cv2.VideoCapture(video)\n",
    "cnt=0\n",
    "\n",
    "# Check if camera opened successfully\n",
    "if (cap.isOpened()== False): \n",
    "  print(\"Error opening video stream or file\")\n",
    "\n",
    "ret,first_frame = cap.read()\n",
    "\n",
    "# Read until video is completed\n",
    "while(cap.isOpened()):\n",
    "    ret, frame = cap.read()     \n",
    "    if ret == True:\n",
    "        print(frame.shape)\n",
    "        roi = frame[0:frame.shape[0]-0,:]\n",
    "        thresh=60\n",
    "        end = roi.shape[1] - thresh\n",
    "        roi = roi[:,thresh:end]\n",
    "        cv2.imwrite('frames/'+str(cnt)+'.png',roi)\n",
    "        cnt=cnt+1\n",
    "    else: \n",
    "        break\n",
    "\n",
    "cv2.destroyAllWindows()"
   ]
  },
  {
   "cell_type": "code",
   "execution_count": null,
   "metadata": {},
   "outputs": [],
   "source": [
    "import matplotlib.pyplot as plt\n",
    "import cv2\n",
    "import numpy as np\n",
    "import os\n",
    "import re\n",
    "\n",
    "#listing down all the file names\n",
    "frames = os.listdir('frames/')\n",
    "frames.sort(key=lambda f: int(re.sub('\\D', '', f)))\n",
    "\n",
    "#reading frames\n",
    "images=[]\n",
    "for i in frames:\n",
    "    img = cv2.imread('frames/'+i)\n",
    "    img = cv2.cvtColor(img, cv2.COLOR_BGR2GRAY)\n",
    "    img = cv2.GaussianBlur(img,(3,3),0)\n",
    "    images.append(img)\n",
    "\n",
    "images=np.array(images)"
   ]
  },
  {
   "cell_type": "code",
   "execution_count": null,
   "metadata": {},
   "outputs": [],
   "source": [
    "nonzero=[]\n",
    "for i in range((len(images)-1)):\n",
    "    \n",
    "    mask = cv2.absdiff(images[i],images[i+1])\n",
    "    _ , mask = cv2.threshold(mask, 50, 255, cv2.THRESH_BINARY)\n",
    "    num = np.count_nonzero((mask.ravel()))\n",
    "    nonzero.append(num)\n",
    "    \n",
    "    \n",
    "x = np.arange(0,len(images)-1)\n",
    "y = nonzero\n",
    "\n",
    "plt.figure(figsize=(20,4))\n",
    "plt.scatter(x,y)"
   ]
  },
  {
   "cell_type": "code",
   "execution_count": null,
   "metadata": {},
   "outputs": [],
   "source": [
    "threshold = 30000\n",
    "for i in range(len(images)-1):\n",
    "    if(nonzero[i]>threshold): \n",
    "        scene_change_idx = i\n",
    "        break\n",
    "        \n",
    "frames = frames[:(scene_change_idx+1)]"
   ]
  },
  {
   "cell_type": "code",
   "execution_count": null,
   "metadata": {},
   "outputs": [],
   "source": [
    "img= cv2.imread('frames/' + frames[10])\n",
    "gray = cv2.cvtColor(img, cv2.COLOR_BGR2GRAY)\n",
    "gray = cv2.GaussianBlur(gray,(3,3),0)\n",
    "\n",
    "plt.figure(figsize=(5,10))\n",
    "plt.imshow(gray,cmap='gray')"
   ]
  },
  {
   "cell_type": "code",
   "execution_count": null,
   "metadata": {},
   "outputs": [],
   "source": [
    "_ , mask = cv2.threshold(gray, 200, 255, cv2.THRESH_BINARY)\n",
    "\n",
    "plt.figure(figsize=(5,5))\n",
    "plt.imshow(mask,cmap='gray')"
   ]
  },
  {
   "cell_type": "code",
   "execution_count": null,
   "metadata": {},
   "outputs": [],
   "source": [
    "contours, _ = cv2.findContours(mask, cv2.RETR_TREE, cv2.CHAIN_APPROX_SIMPLE)"
   ]
  },
  {
   "cell_type": "code",
   "execution_count": null,
   "metadata": {},
   "outputs": [],
   "source": [
    "img_copy = np.copy(gray)\n",
    "cv2.drawContours(img_copy, contours, -1, (0,255,0), 3)\n",
    "plt.imshow(img_copy, cmap='gray')"
   ]
  },
  {
   "cell_type": "code",
   "execution_count": null,
   "metadata": {},
   "outputs": [],
   "source": [
    "num=20\n",
    "cnt=0\n",
    "for i in range(len(contours)):\n",
    "    x,y,w,h = cv2.boundingRect(contours[i])\n",
    "    \n",
    "    numer=min([w,h])\n",
    "    denom=max([w,h])\n",
    "    ratio=numer/denom\n",
    "\n",
    "    if(x>=num and y>=num):\n",
    "        xmin, ymin= x-num, y-num\n",
    "        xmax, ymax= x+w+num, y+h+num\n",
    "    else:\n",
    "        xmin, ymin=x, y\n",
    "        xmax, ymax=x+w, y+h\n",
    "\n",
    "    if(ratio>=0.1 and ((w<=10) and (h<=10)) ):    \n",
    "        print(cnt,x,y,w,h,ratio)\n",
    "        cv2.imwrite(\"patch/\"+str(cnt)+\".png\",img[ymin:ymax,xmin:xmax])\n",
    "        cnt=cnt+1"
   ]
  },
  {
   "cell_type": "code",
   "execution_count": null,
   "metadata": {},
   "outputs": [],
   "source": [
    "import os\n",
    "import cv2\n",
    "import numpy as np\n",
    "import pandas as pd\n",
    "folders=os.listdir('data/')\n",
    "\n",
    "images=[]\n",
    "labels= []\n",
    "for folder in folders:\n",
    "    files=os.listdir('data/'+folder)\n",
    "    for file in files:\n",
    "        img=cv2.imread('data/'+folder+'/'+file,0)\n",
    "        img=cv2.resize(img,(25,25))\n",
    "        \n",
    "        images.append(img)\n",
    "        labels.append(int(folder))\n",
    "\n",
    "images = np.array(images)\n",
    "features = images.reshape(len(images),-1)"
   ]
  },
  {
   "cell_type": "code",
   "execution_count": null,
   "metadata": {},
   "outputs": [],
   "source": [
    "from sklearn.model_selection import train_test_split\n",
    "x_tr,x_val,y_tr,y_val = train_test_split(features,labels, test_size=0.3, stratify=labels,random_state=0)"
   ]
  },
  {
   "cell_type": "code",
   "execution_count": null,
   "metadata": {},
   "outputs": [],
   "source": [
    "from sklearn.ensemble import RandomForestClassifier \n",
    "rfc = RandomForestClassifier(max_depth=10) \n",
    "rfc.fit(x_tr,y_tr)"
   ]
  },
  {
   "cell_type": "code",
   "execution_count": null,
   "metadata": {
    "scrolled": false
   },
   "outputs": [],
   "source": [
    "from sklearn.metrics import classification_report\n",
    "y_pred = rfc.predict(x_val)\n",
    "print(classification_report(y_val,y_pred))"
   ]
  },
  {
   "cell_type": "code",
   "execution_count": null,
   "metadata": {},
   "outputs": [],
   "source": [
    "ball_df = pd.DataFrame(columns=['frame','x','y','w','h'])\n",
    "\n",
    "for idx in range(len(frames)):\n",
    "    \n",
    "    img= cv2.imread('frames/' + frames[idx])\n",
    "    gray = cv2.cvtColor(img, cv2.COLOR_BGR2GRAY)\n",
    "    gray = cv2.GaussianBlur(gray,(25, 25),0)\n",
    "    _ , mask = cv2.threshold(gray, 200, 255, cv2.THRESH_BINARY)\n",
    "    contours, _ = cv2.findContours(mask, cv2.RETR_TREE, cv2.CHAIN_APPROX_SIMPLE)\n",
    "\n",
    "    num=20\n",
    "    cnt=0\n",
    "    df = pd.DataFrame(columns=['frame','x','y','w','h'])\n",
    "    for i in range(len(contours)):\n",
    "        x,y,w,h = cv2.boundingRect(contours[i])\n",
    "\n",
    "        numer=min([w,h])\n",
    "        denom=max([w,h])\n",
    "        ratio=numer/denom\n",
    "\n",
    "        if(x>=num and y>=num):\n",
    "            xmin, ymin= x-num, y-num\n",
    "            xmax, ymax= x+w+num, y+h+num\n",
    "        else:\n",
    "            xmin, ymin= x,y\n",
    "            xmax, ymax= x+w, y+h\n",
    "\n",
    "        if(ratio>=0.5):    \n",
    "            #print(cnt,x,y,w,h,ratio)\n",
    "            df.loc[cnt,'frame'] = frames[idx]\n",
    "            df.loc[cnt,'x']=x\n",
    "            df.loc[cnt,'y']=y\n",
    "            df.loc[cnt,'w']=w\n",
    "            df.loc[cnt,'h']=h\n",
    "            \n",
    "            cv2.imwrite(\"patch/\"+str(cnt)+\".png\",img[ymin:ymax,xmin:xmax])\n",
    "            cnt=cnt+1\n",
    "    \n",
    "    \n",
    "    files=os.listdir('patch/')    \n",
    "    if(len(files)>0):\n",
    "    \n",
    "        files.sort(key=lambda f: int(re.sub('\\D', '', f)))\n",
    "\n",
    "        test=[]\n",
    "        for file in files:\n",
    "            img=cv2.imread('patch/'+file,0)\n",
    "            img=cv2.resize(img,(25,25))\n",
    "            test.append(img)\n",
    "\n",
    "        test = np.array(test)\n",
    "\n",
    "        test = test.reshape(len(test),-1)\n",
    "        y_pred = rfc.predict(test)\n",
    "        prob=rfc.predict_proba(test)\n",
    "\n",
    "        if 0 in y_pred:\n",
    "            ind = np.where(y_pred==0)[0]\n",
    "            proba = prob[:,0]\n",
    "            confidence = proba[ind]\n",
    "            confidence = [i for i in confidence if i>0.0]\n",
    "            if(len(confidence)>0):\n",
    "\n",
    "                maximum = max(confidence)\n",
    "                ball_file=files[list(proba).index(maximum)]\n",
    "\n",
    "                img= cv2.imread('patch/'+ball_file)\n",
    "                cv2.imwrite('ball/'+str(frames[idx]),img)\n",
    "\n",
    "                no = int(ball_file.split(\".\")[0])\n",
    "                ball_df.loc[idx]= df.loc[no]\n",
    "            else:\n",
    "                ball_df.loc[idx,'frame']=frames[idx]\n",
    "\n",
    "        else:\n",
    "            ball_df.loc[idx,'frame']=frames[idx]"
   ]
  },
  {
   "cell_type": "code",
   "execution_count": null,
   "metadata": {},
   "outputs": [],
   "source": [
    "ball_df.dropna(inplace=True)\n",
    "print(ball_df)"
   ]
  },
  {
   "cell_type": "code",
   "execution_count": null,
   "metadata": {},
   "outputs": [],
   "source": [
    "files = ball_df['frame'].values\n",
    "\n",
    "num=10\n",
    "for idx in range(len(files)):\n",
    "    \n",
    "    #draw contours \n",
    "    img = cv2.imread('frames/'+files[idx])\n",
    "    \n",
    "    x=ball_df.loc[idx+76,'x']\n",
    "    y=ball_df.loc[idx+76,'y']\n",
    "    w=ball_df.loc[idx+76,'w']\n",
    "    h=ball_df.loc[idx+76,'h']\n",
    "    \n",
    "    xmin=x-num\n",
    "    ymin=y-num\n",
    "    xmax=x+w+num\n",
    "    ymax=y+h+num\n",
    "\n",
    "    cv2.rectangle(img, (xmin, ymin), (xmax, ymax), (255,0,0), 2)\n",
    "    cv2.imwrite(\"frames/\"+files[idx],img)"
   ]
  },
  {
   "cell_type": "code",
   "execution_count": null,
   "metadata": {},
   "outputs": [],
   "source": [
    "frames = os.listdir('frames/')\n",
    "frames.sort(key=lambda f: int(re.sub('\\D', '', f)))\n",
    "\n",
    "frame_array=[]\n",
    "\n",
    "for i in range(len(frames)):\n",
    "    #reading each files\n",
    "    img = cv2.imread('frames/'+frames[i])\n",
    "    height, width, layers = img.shape\n",
    "    size = (width,height)\n",
    "    #inserting the frames into an image array\n",
    "    frame_array.append(img)\n",
    "\n",
    "out = cv2.VideoWriter('kapildev_processed.mp4',cv2.VideoWriter_fourcc(*'MPEG'), 20, size)\n",
    " \n",
    "for i in range(len(frame_array)):\n",
    "    # writing to a image array\n",
    "    out.write(frame_array[i])\n",
    "out.release()"
   ]
  }
 ],
 "metadata": {
  "kernelspec": {
   "display_name": "Python 3",
   "language": "python",
   "name": "python3"
  },
  "language_info": {
   "codemirror_mode": {
    "name": "ipython",
    "version": 3
   },
   "file_extension": ".py",
   "mimetype": "text/x-python",
   "name": "python",
   "nbconvert_exporter": "python",
   "pygments_lexer": "ipython3",
   "version": "3.8.3"
  }
 },
 "nbformat": 4,
 "nbformat_minor": 4
}
